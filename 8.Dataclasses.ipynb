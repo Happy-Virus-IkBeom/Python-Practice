{
  "nbformat": 4,
  "nbformat_minor": 0,
  "metadata": {
    "colab": {
      "name": "8.Dataclasses.ipynb",
      "provenance": [],
      "collapsed_sections": [],
      "authorship_tag": "ABX9TyMHFTvJnVaUaKDL65MCaSPk",
      "include_colab_link": true
    },
    "kernelspec": {
      "name": "python3",
      "display_name": "Python 3"
    }
  },
  "cells": [
    {
      "cell_type": "markdown",
      "metadata": {
        "id": "view-in-github",
        "colab_type": "text"
      },
      "source": [
        "<a href=\"https://colab.research.google.com/github/Happy-Virus-IkBeom/Python-Practice/blob/master/8.Dataclasses.ipynb\" target=\"_parent\"><img src=\"https://colab.research.google.com/assets/colab-badge.svg\" alt=\"Open In Colab\"/></a>"
      ]
    },
    {
      "cell_type": "code",
      "metadata": {
        "id": "mFh6zp4bdze_",
        "colab_type": "code",
        "colab": {}
      },
      "source": [
        "from dataclasses import dataclass"
      ],
      "execution_count": 2,
      "outputs": []
    },
    {
      "cell_type": "code",
      "metadata": {
        "id": "xnoxT8LUehrE",
        "colab_type": "code",
        "colab": {}
      },
      "source": [
        "\"\"\"\n",
        "데이터 클래스는 변수 어노테이션이 붙어있는 어트리뷰트들을 찾습니다.\n",
        "여기서는 title 과 price 옆에 붙어있는 : str 과 : int 부분을 뜻합니다.(3.6 에서 새로 소개된 문법입니다.)\n",
        "이 것들을 필드라고 부릅니다. 이제 이 필드들을 사용하는 __init__ 와 __repr__ 을 정의해줍니다.\n",
        "가령 __init__ 는 title 을 필수 (기본값이 없어서), price 를 선택 (기본값이 있어서) 매개변수로 정의합니다.\n",
        "그래서 Book('당신은 데이터의 주인이 아니다') 라는 표현을 쓸 수 있게됩니다. Book(title='당신은 데이터의 주인이 아니다',\n",
        "price=None) 는 dataclasses.dataclass() 가 만들어준 __repr__ 의 출력입니다.\n",
        "\n",
        "\"\"\""
      ],
      "execution_count": null,
      "outputs": []
    },
    {
      "cell_type": "code",
      "metadata": {
        "id": "Y9Ykcw2jeJYZ",
        "colab_type": "code",
        "colab": {}
      },
      "source": [
        "@dataclass\n",
        "class Book:\n",
        "  title: str\n",
        "  price: int = None"
      ],
      "execution_count": 3,
      "outputs": []
    },
    {
      "cell_type": "code",
      "metadata": {
        "id": "KujL2cXaeQw-",
        "colab_type": "code",
        "colab": {
          "base_uri": "https://localhost:8080/",
          "height": 34
        },
        "outputId": "3e65d586-fe7b-4026-becc-2eac80a17940"
      },
      "source": [
        "book_hoit = Book('호잇의 모험')\n",
        "print(book_hoit)"
      ],
      "execution_count": 13,
      "outputs": [
        {
          "output_type": "stream",
          "text": [
            "Book(title='호잇의 모험', price=None)\n"
          ],
          "name": "stdout"
        }
      ]
    },
    {
      "cell_type": "code",
      "metadata": {
        "id": "WhjIBv06f6ki",
        "colab_type": "code",
        "colab": {
          "base_uri": "https://localhost:8080/",
          "height": 34
        },
        "outputId": "e1acd9ce-2847-40c5-ca49-612b91606284"
      },
      "source": [
        "book_hoit == Book(title ='호잇의 모험')"
      ],
      "execution_count": 14,
      "outputs": [
        {
          "output_type": "execute_result",
          "data": {
            "text/plain": [
              "True"
            ]
          },
          "metadata": {
            "tags": []
          },
          "execution_count": 14
        }
      ]
    },
    {
      "cell_type": "code",
      "metadata": {
        "id": "TfGOuzV9eYou",
        "colab_type": "code",
        "colab": {
          "base_uri": "https://localhost:8080/",
          "height": 34
        },
        "outputId": "e18759cf-081a-4c50-c475-6c67e594d743"
      },
      "source": [
        "book_hoit.price = '공짜'\n",
        "print(book_hoit)"
      ],
      "execution_count": 15,
      "outputs": [
        {
          "output_type": "stream",
          "text": [
            "Book(title='호잇의 모험', price='공짜')\n"
          ],
          "name": "stdout"
        }
      ]
    },
    {
      "cell_type": "code",
      "metadata": {
        "id": "7wvHo71hfMwJ",
        "colab_type": "code",
        "colab": {
          "base_uri": "https://localhost:8080/",
          "height": 34
        },
        "outputId": "85f83138-3b43-4c3b-9932-16b7e6864b93"
      },
      "source": [
        "book_hoit == Book(title ='호잇의 모험')"
      ],
      "execution_count": 16,
      "outputs": [
        {
          "output_type": "execute_result",
          "data": {
            "text/plain": [
              "False"
            ]
          },
          "metadata": {
            "tags": []
          },
          "execution_count": 16
        }
      ]
    },
    {
      "cell_type": "code",
      "metadata": {
        "id": "gnRBMar5imDu",
        "colab_type": "code",
        "colab": {
          "base_uri": "https://localhost:8080/",
          "height": 34
        },
        "outputId": "307c9184-eb8b-45af-b488-6e8be62cb001"
      },
      "source": [
        "class X: pass\n",
        "X() == X()"
      ],
      "execution_count": 18,
      "outputs": [
        {
          "output_type": "execute_result",
          "data": {
            "text/plain": [
              "False"
            ]
          },
          "metadata": {
            "tags": []
          },
          "execution_count": 18
        }
      ]
    },
    {
      "cell_type": "code",
      "metadata": {
        "id": "PUfTvDaIirq8",
        "colab_type": "code",
        "colab": {
          "base_uri": "https://localhost:8080/",
          "height": 34
        },
        "outputId": "6fba2e3d-1337-4804-94b8-9ff30773948f"
      },
      "source": [
        "@dataclass\n",
        "class Y: pass\n",
        "Y() == Y()"
      ],
      "execution_count": 20,
      "outputs": [
        {
          "output_type": "execute_result",
          "data": {
            "text/plain": [
              "True"
            ]
          },
          "metadata": {
            "tags": []
          },
          "execution_count": 20
        }
      ]
    },
    {
      "cell_type": "code",
      "metadata": {
        "id": "w8AtYEmRjFBm",
        "colab_type": "code",
        "colab": {
          "base_uri": "https://localhost:8080/",
          "height": 52
        },
        "outputId": "73a4b0e6-e796-4b7d-f6ec-b8d1b74e953d"
      },
      "source": [
        "@dataclass(order = True)\n",
        "class Book:\n",
        "  title: str\n",
        "  price: int = None\n",
        "\n",
        "book1 = Book('hoit의 일대기', 22)\n",
        "book2 = Book('hoit의 일대기', 23)\n",
        "print(book2 > book1) # 대소비교에는 필드의 순서가 중요.\n",
        "\n",
        "book1 = Book('hoit의 일대기', 22)\n",
        "book2 = Book('쿠루미상의 일대기', 23)\n",
        "print(book2 > book1)"
      ],
      "execution_count": 24,
      "outputs": [
        {
          "output_type": "stream",
          "text": [
            "True\n",
            "True\n"
          ],
          "name": "stdout"
        }
      ]
    },
    {
      "cell_type": "markdown",
      "metadata": {
        "id": "D_BXRi-QocCB",
        "colab_type": "text"
      },
      "source": [
        "해시, 딕셔너리에 관한 내용은\n",
        "https://wikidocs.net/16 참고."
      ]
    },
    {
      "cell_type": "code",
      "metadata": {
        "id": "roMrqD1ooh7a",
        "colab_type": "code",
        "colab": {
          "base_uri": "https://localhost:8080/",
          "height": 34
        },
        "outputId": "496c6961-0349-4ea3-81bb-43faf527c3f0"
      },
      "source": [
        "a = (1,2,3)\n",
        "hash(a)"
      ],
      "execution_count": 28,
      "outputs": [
        {
          "output_type": "execute_result",
          "data": {
            "text/plain": [
              "2528502973977326415"
            ]
          },
          "metadata": {
            "tags": []
          },
          "execution_count": 28
        }
      ]
    },
    {
      "cell_type": "code",
      "metadata": {
        "id": "XhFS5qVNpaBc",
        "colab_type": "code",
        "colab": {
          "base_uri": "https://localhost:8080/",
          "height": 170
        },
        "outputId": "63236b2c-bdd2-4d17-9aba-71174a9b05cf"
      },
      "source": [
        "hash(book1) # 데이터 클래스는 해시간능하지 않음. => 딕셔너리의 키나, 집합의 원소로 사용할 수 없음."
      ],
      "execution_count": 29,
      "outputs": [
        {
          "output_type": "error",
          "ename": "TypeError",
          "evalue": "ignored",
          "traceback": [
            "\u001b[0;31m---------------------------------------------------------------------------\u001b[0m",
            "\u001b[0;31mTypeError\u001b[0m                                 Traceback (most recent call last)",
            "\u001b[0;32m<ipython-input-29-f3ed4f6b273e>\u001b[0m in \u001b[0;36m<module>\u001b[0;34m()\u001b[0m\n\u001b[0;32m----> 1\u001b[0;31m \u001b[0mhash\u001b[0m\u001b[0;34m(\u001b[0m\u001b[0mbook1\u001b[0m\u001b[0;34m)\u001b[0m\u001b[0;34m\u001b[0m\u001b[0;34m\u001b[0m\u001b[0m\n\u001b[0m",
            "\u001b[0;31mTypeError\u001b[0m: unhashable type: 'Book'"
          ]
        }
      ]
    },
    {
      "cell_type": "code",
      "metadata": {
        "id": "302oXrLgpkzi",
        "colab_type": "code",
        "colab": {
          "base_uri": "https://localhost:8080/",
          "height": 170
        },
        "outputId": "36f29238-c812-459d-e7b8-eee974d4fb0c"
      },
      "source": [
        "{book1} # 위의 설명과 동일. => 하지만 아래와 같이 frozen = True를 추가하면 불변 객체로 만들어줌."
      ],
      "execution_count": 30,
      "outputs": [
        {
          "output_type": "error",
          "ename": "TypeError",
          "evalue": "ignored",
          "traceback": [
            "\u001b[0;31m---------------------------------------------------------------------------\u001b[0m",
            "\u001b[0;31mTypeError\u001b[0m                                 Traceback (most recent call last)",
            "\u001b[0;32m<ipython-input-30-4611ab316c8e>\u001b[0m in \u001b[0;36m<module>\u001b[0;34m()\u001b[0m\n\u001b[0;32m----> 1\u001b[0;31m \u001b[0;34m{\u001b[0m\u001b[0mbook1\u001b[0m\u001b[0;34m}\u001b[0m\u001b[0;34m\u001b[0m\u001b[0;34m\u001b[0m\u001b[0m\n\u001b[0m",
            "\u001b[0;31mTypeError\u001b[0m: unhashable type: 'Book'"
          ]
        }
      ]
    },
    {
      "cell_type": "code",
      "metadata": {
        "id": "Pnjx4UQnpsZa",
        "colab_type": "code",
        "colab": {
          "base_uri": "https://localhost:8080/",
          "height": 34
        },
        "outputId": "0ab7e01e-3187-4ba7-f24a-09aeb26cf42b"
      },
      "source": [
        "@dataclass(order = True, frozen = True)\n",
        "class Book:\n",
        "  title: str\n",
        "  price: int = None\n",
        "\n",
        "book = Book(title = '호잇의 모험')\n",
        "hash(book)"
      ],
      "execution_count": 33,
      "outputs": [
        {
          "output_type": "execute_result",
          "data": {
            "text/plain": [
              "2975419124370418145"
            ]
          },
          "metadata": {
            "tags": []
          },
          "execution_count": 33
        }
      ]
    },
    {
      "cell_type": "code",
      "metadata": {
        "id": "3SDzZByBqHAK",
        "colab_type": "code",
        "colab": {
          "base_uri": "https://localhost:8080/",
          "height": 34
        },
        "outputId": "fa14845c-3750-421a-a0e6-a736bffb8da5"
      },
      "source": [
        "{book}"
      ],
      "execution_count": 34,
      "outputs": [
        {
          "output_type": "execute_result",
          "data": {
            "text/plain": [
              "{Book(title='호잇의 모험', price=None)}"
            ]
          },
          "metadata": {
            "tags": []
          },
          "execution_count": 34
        }
      ]
    },
    {
      "cell_type": "code",
      "metadata": {
        "id": "klMjmDdJqMHU",
        "colab_type": "code",
        "colab": {
          "base_uri": "https://localhost:8080/",
          "height": 205
        },
        "outputId": "2877cd40-dadc-4956-f466-019cf8bfd4e4"
      },
      "source": [
        "book.price = 19000 # frozen = True 이므로 불변. 따라서 오류가 남."
      ],
      "execution_count": 35,
      "outputs": [
        {
          "output_type": "error",
          "ename": "FrozenInstanceError",
          "evalue": "ignored",
          "traceback": [
            "\u001b[0;31m---------------------------------------------------------------------------\u001b[0m",
            "\u001b[0;31mFrozenInstanceError\u001b[0m                       Traceback (most recent call last)",
            "\u001b[0;32m<ipython-input-35-cd4ba08e1d45>\u001b[0m in \u001b[0;36m<module>\u001b[0;34m()\u001b[0m\n\u001b[0;32m----> 1\u001b[0;31m \u001b[0mbook\u001b[0m\u001b[0;34m.\u001b[0m\u001b[0mprice\u001b[0m \u001b[0;34m=\u001b[0m \u001b[0;36m19000\u001b[0m \u001b[0;31m# frozen = True 이므로 불변. 따라서 오류가 남.\u001b[0m\u001b[0;34m\u001b[0m\u001b[0;34m\u001b[0m\u001b[0m\n\u001b[0m",
            "\u001b[0;32m<string>\u001b[0m in \u001b[0;36m__setattr__\u001b[0;34m(self, name, value)\u001b[0m\n",
            "\u001b[0;31mFrozenInstanceError\u001b[0m: cannot assign to field 'price'"
          ]
        }
      ]
    }
  ]
}