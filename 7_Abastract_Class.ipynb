{
  "nbformat": 4,
  "nbformat_minor": 0,
  "metadata": {
    "colab": {
      "name": "7.Abastract Class.ipynb",
      "provenance": [],
      "collapsed_sections": [],
      "authorship_tag": "ABX9TyPpqFe3M0WbxzYxD5HYxMdq",
      "include_colab_link": true
    },
    "kernelspec": {
      "name": "python3",
      "display_name": "Python 3"
    }
  },
  "cells": [
    {
      "cell_type": "markdown",
      "metadata": {
        "id": "view-in-github",
        "colab_type": "text"
      },
      "source": [
        "<a href=\"https://colab.research.google.com/github/Happy-Virus-IkBeom/Python-Practice/blob/master/7_Abastract_Class.ipynb\" target=\"_parent\"><img src=\"https://colab.research.google.com/assets/colab-badge.svg\" alt=\"Open In Colab\"/></a>"
      ]
    },
    {
      "cell_type": "code",
      "metadata": {
        "id": "8jqPDCFzhkhJ",
        "colab_type": "code",
        "colab": {}
      },
      "source": [
        "\"\"\"\n",
        "먼저 추상 클래스를 만들려면 import로 abc 모듈을 가져와야 합니다( abc는 abstract base class의 약자입니다).\n",
        "그리고 클래스의 ( )(괄호) 안에 metaclass=ABCMeta를 지정하고, 메서드를 만들 때 위에 @abstractmethod를 붙여서 추상 메서드로 지정합니다.\n",
        "\"\"\"\n",
        "from abc import * \n",
        "\n",
        "class 추상클래스이름(metaclass=ABCMetica):\n",
        "  @abstractmethod\n",
        "  def 메서드이름(self):\n",
        "    코드"
      ],
      "execution_count": null,
      "outputs": []
    },
    {
      "cell_type": "code",
      "metadata": {
        "id": "2SC4hGeJhxh4",
        "colab_type": "code",
        "colab": {
          "base_uri": "https://localhost:8080/",
          "height": 223
        },
        "outputId": "f8f285dc-a137-4304-b243-427cfd075a68"
      },
      "source": [
        "\"\"\"\n",
        "실행을 해보면 에러가 발생합니다. 왜냐하면 추상 클래스 StudentBase에서는 추상 메서드로 study와 go_to_school을 정의했습니다.\n",
        "하지만 StudentBase를 상속받은 Student에서는 study 메서드만 구현하고, go_to_school 메서드는 구현하지 않았으므로 에러가 발생합니다.\n",
        "따라서 추상 클래스를 상속받았다면 @abstractmethod가 붙은 추상 메서드를 모두 구현해야 합니다. 다음과 같이 Student에서 go_to_school 메서드도 구현해줍니다.\n",
        "\n",
        "\"\"\"\n",
        "\n",
        "from abc import *\n",
        " \n",
        "class StudentBase(metaclass=ABCMeta):\n",
        "    @abstractmethod\n",
        "    def study(self):\n",
        "        pass        # 추상 메서드는 호출할 일이 없으므로 빈 메서드로 만듦\n",
        " \n",
        "    @abstractmethod\n",
        "    def go_to_school(self):\n",
        "        pass        # 추상 메서드는 호출할 일이 없으므로 빈 메서드로 만듦\n",
        " \n",
        "class Student(StudentBase):\n",
        "    def study(self):\n",
        "        print('공부하기')\n",
        " \n",
        "james = Student()\n",
        "james.study()"
      ],
      "execution_count": 4,
      "outputs": [
        {
          "output_type": "error",
          "ename": "TypeError",
          "evalue": "ignored",
          "traceback": [
            "\u001b[0;31m---------------------------------------------------------------------------\u001b[0m",
            "\u001b[0;31mTypeError\u001b[0m                                 Traceback (most recent call last)",
            "\u001b[0;32m<ipython-input-4-829c1d3aaa81>\u001b[0m in \u001b[0;36m<module>\u001b[0;34m()\u001b[0m\n\u001b[1;32m     14\u001b[0m         \u001b[0mprint\u001b[0m\u001b[0;34m(\u001b[0m\u001b[0;34m'공부하기'\u001b[0m\u001b[0;34m)\u001b[0m\u001b[0;34m\u001b[0m\u001b[0;34m\u001b[0m\u001b[0m\n\u001b[1;32m     15\u001b[0m \u001b[0;34m\u001b[0m\u001b[0m\n\u001b[0;32m---> 16\u001b[0;31m \u001b[0mjames\u001b[0m \u001b[0;34m=\u001b[0m \u001b[0mStudent\u001b[0m\u001b[0;34m(\u001b[0m\u001b[0;34m)\u001b[0m\u001b[0;34m\u001b[0m\u001b[0;34m\u001b[0m\u001b[0m\n\u001b[0m\u001b[1;32m     17\u001b[0m \u001b[0mjames\u001b[0m\u001b[0;34m.\u001b[0m\u001b[0mstudy\u001b[0m\u001b[0;34m(\u001b[0m\u001b[0;34m)\u001b[0m\u001b[0;34m\u001b[0m\u001b[0;34m\u001b[0m\u001b[0m\n",
            "\u001b[0;31mTypeError\u001b[0m: Can't instantiate abstract class Student with abstract methods go_to_school"
          ]
        }
      ]
    },
    {
      "cell_type": "code",
      "metadata": {
        "id": "-jnYAuL3iJ4m",
        "colab_type": "code",
        "colab": {
          "base_uri": "https://localhost:8080/",
          "height": 52
        },
        "outputId": "9beee208-a30e-444a-a0ba-5e82e5d8b0d3"
      },
      "source": [
        "from abc import *\n",
        " \n",
        "class StudentBase(metaclass=ABCMeta):\n",
        "    @abstractmethod\n",
        "    def study(self):\n",
        "        pass\n",
        " \n",
        "    @abstractmethod\n",
        "    def go_to_school(self):\n",
        "        pass\n",
        " \n",
        "class Student(StudentBase):\n",
        "    def study(self):\n",
        "        print('공부하기')\n",
        " \n",
        "    def go_to_school(self):\n",
        "        print('학교가기')\n",
        " \n",
        "james = Student()\n",
        "james.study()\n",
        "james.go_to_school()"
      ],
      "execution_count": 5,
      "outputs": [
        {
          "output_type": "stream",
          "text": [
            "공부하기\n",
            "학교가기\n"
          ],
          "name": "stdout"
        }
      ]
    },
    {
      "cell_type": "code",
      "metadata": {
        "id": "g0Wqnmbdw9js",
        "colab_type": "code",
        "colab": {
          "base_uri": "https://localhost:8080/",
          "height": 205
        },
        "outputId": "1225a6d5-dedc-4436-f678-4487eccf7d2f"
      },
      "source": [
        "\"\"\"\n",
        "그리고 또 한 가지 중요한 점이 있는데 추상 클래스는 인스턴스로 만들 수가 없다는 점입니다.\n",
        "다음과 같이 추상 클래스 StudentBase로 인스턴스를 만들면 에러가 발생합니다.\n",
        "\n",
        "\"\"\"\n",
        "james = StudentBase()\n",
        "\n",
        "\"\"\"\n",
        "그래서 지금까지 추상 메서드를 만들 때 pass만 넣어서 빈 메서드로 만든 것입니다.\n",
        "왜냐하면 추상 클래스는 인스턴스를 만들 수 없으니 추상 메서드도 호출할 일이 없기 때문이죠.\n",
        "\n",
        "\"\"\""
      ],
      "execution_count": 6,
      "outputs": [
        {
          "output_type": "error",
          "ename": "TypeError",
          "evalue": "ignored",
          "traceback": [
            "\u001b[0;31m---------------------------------------------------------------------------\u001b[0m",
            "\u001b[0;31mTypeError\u001b[0m                                 Traceback (most recent call last)",
            "\u001b[0;32m<ipython-input-6-755d8adfe827>\u001b[0m in \u001b[0;36m<module>\u001b[0;34m()\u001b[0m\n\u001b[1;32m      4\u001b[0m \u001b[0;34m\u001b[0m\u001b[0m\n\u001b[1;32m      5\u001b[0m \"\"\"\n\u001b[0;32m----> 6\u001b[0;31m \u001b[0mjames\u001b[0m \u001b[0;34m=\u001b[0m \u001b[0mStudentBase\u001b[0m\u001b[0;34m(\u001b[0m\u001b[0;34m)\u001b[0m\u001b[0;34m\u001b[0m\u001b[0;34m\u001b[0m\u001b[0m\n\u001b[0m",
            "\u001b[0;31mTypeError\u001b[0m: Can't instantiate abstract class StudentBase with abstract methods go_to_school, study"
          ]
        }
      ]
    },
    {
      "cell_type": "code",
      "metadata": {
        "id": "j7UR6lBgxW_y",
        "colab_type": "code",
        "colab": {}
      },
      "source": [
        "\"\"\"\n",
        "정리하자면 추상 클래스는 인스턴스로 만들 때는 사용하지 않으며 오로지 상속에만 사용합니다.\n",
        "그리고 파생 클래스에서 반드시 구현해야 할 메서드를 정해 줄 때 사용합니다.\n",
        "\n",
        "\"\"\""
      ],
      "execution_count": null,
      "outputs": []
    }
  ]
}