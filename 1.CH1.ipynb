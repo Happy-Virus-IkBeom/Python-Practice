{
  "nbformat": 4,
  "nbformat_minor": 0,
  "metadata": {
    "colab": {
      "name": "CH1.ipynb",
      "provenance": [],
      "collapsed_sections": [],
      "authorship_tag": "ABX9TyP/BWuq7/jNen7smud2L3nf",
      "include_colab_link": true
    },
    "kernelspec": {
      "name": "python3",
      "display_name": "Python 3"
    }
  },
  "cells": [
    {
      "cell_type": "markdown",
      "metadata": {
        "id": "view-in-github",
        "colab_type": "text"
      },
      "source": [
        "<a href=\"https://colab.research.google.com/github/Happy-Virus-IkBeom/Python-Practice/blob/master/CH1.ipynb\" target=\"_parent\"><img src=\"https://colab.research.google.com/assets/colab-badge.svg\" alt=\"Open In Colab\"/></a>"
      ]
    },
    {
      "cell_type": "code",
      "metadata": {
        "id": "t-0QOrmfaT9e",
        "colab_type": "code",
        "outputId": "a6af51ba-2f26-4a0e-c9cc-266c1dc64aff",
        "colab": {
          "base_uri": "https://localhost:8080/",
          "height": 234
        }
      },
      "source": [
        "# Data Type\n",
        "a = 2\n",
        "b = 2.4\n",
        "c = \"hello\"\n",
        "d = 'hello'\n",
        "e = True\n",
        "f = [2,3]\n",
        "g = (1,2)\n",
        "h = {2,3}\n",
        "i = { 'name':'hsw','num':2}\n",
        "j = \" I'll get an A+ on this exam. \"\n",
        "# k = (1,2,'name':3) 혹은 [1,2,'name':3] 불가\n",
        "print(type(a))\n",
        "print(type(b))\n",
        "print(type(c))\n",
        "print(type(d))\n",
        "print(type(e))\n",
        "print(type(f))\n",
        "print(type(g))\n",
        "print(type(h))\n",
        "print(type(i))\n",
        "print(type(j))\n",
        "print(i)\n",
        "print(j)"
      ],
      "execution_count": 0,
      "outputs": [
        {
          "output_type": "stream",
          "text": [
            "<class 'int'>\n",
            "<class 'float'>\n",
            "<class 'str'>\n",
            "<class 'str'>\n",
            "<class 'bool'>\n",
            "<class 'list'>\n",
            "<class 'tuple'>\n",
            "<class 'set'>\n",
            "<class 'dict'>\n",
            "<class 'str'>\n",
            "{'name': 'hsw', 'num': 2}\n",
            " I'll get an A+ on this exam. \n"
          ],
          "name": "stdout"
        }
      ]
    },
    {
      "cell_type": "code",
      "metadata": {
        "id": "-L4EJalBceCq",
        "colab_type": "code",
        "outputId": "9459c47d-401f-4202-e12b-2cd41d409f84",
        "colab": {
          "base_uri": "https://localhost:8080/",
          "height": 289
        }
      },
      "source": [
        "a = 1\n",
        "print(a)\n",
        "print(\"type = \",type(a))\n",
        "\n",
        "a= float(5)\n",
        "b = int(10.6)\n",
        "c = str(25)\n",
        "d = list(\"hello\")\n",
        "\n",
        "print(a)\n",
        "print(\"type = \",type(a))\n",
        "print(b)\n",
        "print(\"type = \",type(b))\n",
        "print(c)\n",
        "print(\"type = \",type(c))\n",
        "print(d)\n",
        "print(\"type = \",type(d))\n",
        "\n",
        "b = [1,2,3,4,5] # cf)  b = (1,2,3) 은 tuple -> constant list\n",
        "print(b)\n",
        "print(\"b[1] = {} \".format(b[1]))\n",
        "print(\"b[1] = \",format(b[1]))\n",
        "print(\"list b = \", b)\n",
        "print(\"type(b) = \",type(b))"
      ],
      "execution_count": 0,
      "outputs": [
        {
          "output_type": "stream",
          "text": [
            "1\n",
            "type =  <class 'int'>\n",
            "5.0\n",
            "type =  <class 'float'>\n",
            "10\n",
            "type =  <class 'int'>\n",
            "25\n",
            "type =  <class 'str'>\n",
            "['h', 'e', 'l', 'l', 'o']\n",
            "type =  <class 'list'>\n",
            "[1, 2, 3, 4, 5]\n",
            "b[1] = 2 \n",
            "b[1] =  2\n",
            "list b =  [1, 2, 3, 4, 5]\n",
            "type(b) =  <class 'list'>\n"
          ],
          "name": "stdout"
        }
      ]
    },
    {
      "cell_type": "code",
      "metadata": {
        "id": "VebAnDkcek3L",
        "colab_type": "code",
        "outputId": "291b0930-02f6-4720-ecc0-c1e82765066a",
        "colab": {
          "base_uri": "https://localhost:8080/",
          "height": 71
        }
      },
      "source": [
        "# object 개념\n",
        "\n",
        "a = 2\n",
        "b = 2\n",
        "print(id(a))\n",
        "print(id(b))\n",
        "print(a is b)"
      ],
      "execution_count": 0,
      "outputs": [
        {
          "output_type": "stream",
          "text": [
            "10914528\n",
            "10914528\n",
            "True\n"
          ],
          "name": "stdout"
        }
      ]
    },
    {
      "cell_type": "code",
      "metadata": {
        "id": "4nvjBGIze-v5",
        "colab_type": "code",
        "outputId": "f3eea58d-88be-42f4-c227-6ea6568f8f40",
        "colab": {
          "base_uri": "https://localhost:8080/",
          "height": 162
        }
      },
      "source": [
        "# Mutable/ Immutable object\n",
        "\n",
        "\"\"\"\n",
        "mutable object : [], {}, dict, ndarray -> 변수에 새로운 값을 대입했을때 주소값이 변해버림.\n",
        "immutable object : int, float, complex, bool, string, (), frozen set, string\n",
        "\n",
        "\"\"\"\n",
        "\n",
        "a = 1\n",
        "print(id(a))\n",
        "c = id(a)\n",
        "a = 5\n",
        "print(id(a))\n",
        "d = id(a)\n",
        "print(\"Are addresses same? \", c is d)\n",
        "\n",
        "a = \"hello\"\n",
        "b = \"hello\"\n",
        "print( \" id(a) is id(b) = \", id(a) is id(b))\n",
        "print(a[0])\n",
        "# a[0] = 'H' 은 오류생김. string is immutable object\n",
        "a +='G'\n",
        "print(a)\n",
        "c = list(a)\n",
        "c[0] = 'H'\n",
        "print(\",\".join(c))\n",
        "a = 1\n",
        "b = 1\n",
        "print( \" id(a) is id(b) = \", id(a) is id(b))"
      ],
      "execution_count": 0,
      "outputs": [
        {
          "output_type": "stream",
          "text": [
            "10914496\n",
            "10914624\n",
            "Are addresses same?  False\n",
            " id(a) is id(b) =  False\n",
            "h\n",
            "helloG\n",
            "H,e,l,l,o,G\n",
            " id(a) is id(b) =  False\n"
          ],
          "name": "stdout"
        }
      ]
    },
    {
      "cell_type": "code",
      "metadata": {
        "id": "CtNbOC2BodbJ",
        "colab_type": "code",
        "outputId": "caec0f52-282e-48a2-ece6-d853a9fb2675",
        "colab": {
          "base_uri": "https://localhost:8080/",
          "height": 688
        }
      },
      "source": [
        "# Control\n",
        "\n",
        "test = ['one','two','three']\n",
        "for i in test:\n",
        "  print(i, \"\\n\")\n",
        "\n",
        "for i in range(0,10,2):\n",
        "  print(i, '\\n')\n",
        "\n",
        "for i in range(1,5):\n",
        "  for j in range (1,5):\n",
        "    print((i,j),end =\"\")\n",
        "  print('\\n')\n",
        "\n",
        "a = [(1,2),(3,4),(5,6)]\n",
        "for (i,j) in a:\n",
        "  print((i,j))\n",
        "print('\\n')\n",
        "\n",
        "while(True):\n",
        "  a = int(input('type key'))\n",
        "  if((a==2)or (a==3)):\n",
        "    print('good %d was pressed'%a)\n",
        "  elif(a==4):\n",
        "    print('bad {} was pressed'.format(a))\n",
        "  elif(a==5):\n",
        "    break\n",
        "  else:\n",
        "    if(a==6):\n",
        "      continue\n",
        "    else:\n",
        "      break"
      ],
      "execution_count": 0,
      "outputs": [
        {
          "output_type": "stream",
          "text": [
            "one \n",
            "\n",
            "two \n",
            "\n",
            "three \n",
            "\n",
            "0 \n",
            "\n",
            "2 \n",
            "\n",
            "4 \n",
            "\n",
            "6 \n",
            "\n",
            "8 \n",
            "\n",
            "(1, 1)(1, 2)(1, 3)(1, 4)\n",
            "\n",
            "(2, 1)(2, 2)(2, 3)(2, 4)\n",
            "\n",
            "(3, 1)(3, 2)(3, 3)(3, 4)\n",
            "\n",
            "(4, 1)(4, 2)(4, 3)(4, 4)\n",
            "\n",
            "(1, 2)\n",
            "(3, 4)\n",
            "(5, 6)\n",
            "\n",
            "\n",
            "type key2\n",
            "good 2 was pressed\n",
            "type key3\n",
            "good 3 was pressed\n",
            "type key4\n",
            "bad 4 was pressed\n",
            "type key6\n",
            "type key5\n"
          ],
          "name": "stdout"
        }
      ]
    },
    {
      "cell_type": "code",
      "metadata": {
        "id": "ElKU-xKBql3S",
        "colab_type": "code",
        "outputId": "78ae0297-1a1b-4312-ac15-3596059c57ab",
        "colab": {
          "base_uri": "https://localhost:8080/",
          "height": 216
        }
      },
      "source": [
        "# array\n",
        "\n",
        "a = (1,2,3,4,5)\n",
        "print(id(a))\n",
        "\n",
        "b = {0.5,5,6,7,8}\n",
        "print(id(b))\n",
        "\n",
        "a = list(a)\n",
        "print(id(a))\n",
        "print(a)\n",
        "\n",
        "b = list(b)\n",
        "print(id(b))\n",
        "print(b)\n",
        "\n",
        "print(a<b)\n",
        "print(a == b)\n",
        "\n",
        "a.append('c')\n",
        "print(a)\n",
        "\n",
        "a = [1,2,3,4,5,'c']\n",
        "a.extend(['c','7',2])\n",
        "print(a)\n",
        "\n",
        "a.append(7)\n",
        "print(a)\n"
      ],
      "execution_count": 0,
      "outputs": [
        {
          "output_type": "stream",
          "text": [
            "139985251404352\n",
            "139985241138792\n",
            "139985239337480\n",
            "[1, 2, 3, 4, 5]\n",
            "139985238915464\n",
            "[0.5, 5, 6, 7, 8]\n",
            "False\n",
            "False\n",
            "[1, 2, 3, 4, 5, 'c']\n",
            "[1, 2, 3, 4, 5, 'c', 'c', '7', 2]\n",
            "[1, 2, 3, 4, 5, 'c', 'c', '7', 2, 7]\n"
          ],
          "name": "stdout"
        }
      ]
    },
    {
      "cell_type": "code",
      "metadata": {
        "id": "WxCnsPCvwjS5",
        "colab_type": "code",
        "outputId": "dcc919d9-2373-4889-a173-a0e83013f88b",
        "colab": {
          "base_uri": "https://localhost:8080/",
          "height": 289
        }
      },
      "source": [
        "# 다차원 배열\n",
        "import numpy as np\n",
        "\n",
        "\"\"\"\n",
        "1차원 배열\n",
        "\"\"\"\n",
        "\n",
        "m = []\n",
        "print(m)\n",
        "\n",
        "m = [ 0 for i in range(5)]\n",
        "print(m)\n",
        "\n",
        "m = [0]*5\n",
        "print(m)\n",
        "\n",
        "\"\"\"\n",
        "2차원 배열\n",
        "\"\"\"\n",
        "\n",
        "# m = [][], m = [5][5] : 오류가 남\n",
        "m = [[0 for col in range(5)]for row in range(2)]  # row: 행 column : 열, python 에서는 열 먼저, 그다음 행순으로 만들음\n",
        "print(m)\n",
        "\n",
        "m = [[1]*5 for row in range(2)]\n",
        "print(m)\n",
        "\n",
        "m = [[1]*5 for i in range(3)]\n",
        "n = [[2]*5]*5\n",
        "print(m)\n",
        "print(m[0])\n",
        "\n",
        "print(n)\n",
        "print(n[0])\n",
        "\n",
        "l = [[1]*5]*3\n",
        "print(l)\n",
        "print(l[0])\n",
        "print( m is l)\n",
        "print( m[0] is l[0])\n",
        "\n",
        "m = np.array(m)\n",
        "print(m.shape)\n",
        "l = np.array(l)\n",
        "print(l.shape)"
      ],
      "execution_count": 0,
      "outputs": [
        {
          "output_type": "stream",
          "text": [
            "[]\n",
            "[0, 0, 0, 0, 0]\n",
            "[0, 0, 0, 0, 0]\n",
            "[[0, 0, 0, 0, 0], [0, 0, 0, 0, 0]]\n",
            "[[1, 1, 1, 1, 1], [1, 1, 1, 1, 1]]\n",
            "[[1, 1, 1, 1, 1], [1, 1, 1, 1, 1], [1, 1, 1, 1, 1]]\n",
            "[1, 1, 1, 1, 1]\n",
            "[[2, 2, 2, 2, 2], [2, 2, 2, 2, 2], [2, 2, 2, 2, 2], [2, 2, 2, 2, 2], [2, 2, 2, 2, 2]]\n",
            "[2, 2, 2, 2, 2]\n",
            "[[1, 1, 1, 1, 1], [1, 1, 1, 1, 1], [1, 1, 1, 1, 1]]\n",
            "[1, 1, 1, 1, 1]\n",
            "False\n",
            "False\n",
            "(3, 5)\n",
            "(3, 5)\n"
          ],
          "name": "stdout"
        }
      ]
    },
    {
      "cell_type": "code",
      "metadata": {
        "id": "3okrwagW1d6E",
        "colab_type": "code",
        "outputId": "b2c55832-1958-42ed-a0f2-ace204c71a35",
        "colab": {
          "base_uri": "https://localhost:8080/",
          "height": 234
        }
      },
      "source": [
        "# A dot B using 다차원 배열\n",
        "\n",
        "import numpy as np\n",
        "\n",
        "def dot(A,B):\n",
        "  C = [[0 for column in range (2)]for row in range (2)]\n",
        "  for i in range(0,2):\n",
        "    for j in range(0,2):\n",
        "      Result = 0\n",
        "      for k in range(0,2):\n",
        "        Result = Result + A[i][k]*B[k][j]\n",
        "      C[i][j] = Result\n",
        "  return C\n",
        "\n",
        "def Making(A):\n",
        "\n",
        "  for i in range(2):\n",
        "    for j in range(2):\n",
        "      A[i][j] = float(input(\" type float\"))\n",
        "\n",
        "  return A\n",
        "\n",
        "A = [[0 for column in range (2)]for row in range(2)]\n",
        "B = [[0 for column in range (2)]for row in range(2)]\n",
        "\n",
        "Making(A)\n",
        "Making(B)\n",
        "print(\"A dot B is = \", dot(A,B))\n",
        "C = dot(A,B)\n",
        "\n",
        "C = np.array(C)\n",
        "C.reshape(-1,2)\n",
        "print(\"A dot B is = \", C)\n",
        "print(type(C))"
      ],
      "execution_count": 0,
      "outputs": [
        {
          "output_type": "stream",
          "text": [
            " type float1\n",
            " type float2\n",
            " type float3\n",
            " type float4\n",
            " type float1\n",
            " type float2\n",
            " type float3\n",
            " type float4\n",
            "A dot B is =  [[7.0, 10.0], [15.0, 22.0]]\n",
            "A dot B is =  [[ 7. 10.]\n",
            " [15. 22.]]\n",
            "<class 'numpy.ndarray'>\n"
          ],
          "name": "stdout"
        }
      ]
    },
    {
      "cell_type": "code",
      "metadata": {
        "id": "6hJhquSm8LGf",
        "colab_type": "code",
        "outputId": "1943cadb-e016-4649-f875-1015a7718228",
        "colab": {
          "base_uri": "https://localhost:8080/",
          "height": 506
        }
      },
      "source": [
        "# numpy \n",
        "\n",
        "import numpy as np\n",
        "\n",
        "a = [1,2,3,4,5,6]\n",
        "print(a,\"\\n\")\n",
        "\n",
        "b = np.array(a)\n",
        "print(b.shape)\n",
        "print(b,\"\\n\")\n",
        "\n",
        "c = b.tolist()\n",
        "print(c,\"\\n\")\n",
        "\n",
        "c = np.array(a)\n",
        "c = c.reshape(-1,2)\n",
        "print(c)\n",
        "print(c.shape)\n",
        "print(c.ndim,\"\\n\") # n-dimension, n 차원\n",
        "\n",
        "a = [1,2]\n",
        "b = [3,4]\n",
        "print(a+b) #그냥 더하면 원소가 extend 됨\n",
        "print(np.add(a,b),\"\\n\")\n",
        "\n",
        "a = np.array(a)\n",
        "b = np.array(b)\n",
        "\n",
        "\n",
        "print(a+b) # np.array 해주고 a+b 해주면 원소끼리 잘 더해짐\n",
        "print(a*b, \"\\n\")\n",
        "\n",
        "print(np.matmul(a,b))\n",
        "print(np.dot(a,b))\n",
        "\n",
        "c = [[1,2,3],[4,5,6]]\n",
        "c = np.array(c)\n",
        "print(c.T)\n",
        "print(c.transpose())"
      ],
      "execution_count": 0,
      "outputs": [
        {
          "output_type": "stream",
          "text": [
            "[1, 2, 3, 4, 5, 6] \n",
            "\n",
            "(6,)\n",
            "[1 2 3 4 5 6] \n",
            "\n",
            "[1, 2, 3, 4, 5, 6] \n",
            "\n",
            "[[1 2]\n",
            " [3 4]\n",
            " [5 6]]\n",
            "(3, 2)\n",
            "2 \n",
            "\n",
            "[1, 2, 3, 4]\n",
            "[4 6] \n",
            "\n",
            "[4 6]\n",
            "[3 8] \n",
            "\n",
            "11\n",
            "11\n",
            "[[1 4]\n",
            " [2 5]\n",
            " [3 6]]\n",
            "[[1 4]\n",
            " [2 5]\n",
            " [3 6]]\n"
          ],
          "name": "stdout"
        }
      ]
    },
    {
      "cell_type": "code",
      "metadata": {
        "id": "xnc1kZoc_3AM",
        "colab_type": "code",
        "outputId": "3af89044-559d-4514-9975-6a0b4cea8b73",
        "colab": {
          "base_uri": "https://localhost:8080/",
          "height": 125
        }
      },
      "source": [
        "# 입출력\n",
        "\n",
        "a, b = input('key1 and key2? ').split(',')\n",
        "print(type(a), type(b)) # class => string => 연산위해서는 int 나 float 으로 바꾸어주어야함\n",
        "print('a = {} and b = {}'.format(a, b))\n",
        "print('a = ', a, 'b = ', b)\n",
        "print( 'a = {}'.format(a), 'b = {}'. format(b))\n",
        "\n",
        "a = float(a)\n",
        "b = float(b)\n",
        "print('%f+ %f = %f'%(a,b,a+b))"
      ],
      "execution_count": 0,
      "outputs": [
        {
          "output_type": "stream",
          "text": [
            "key1 and key2? 1,2\n",
            "<class 'str'> <class 'str'>\n",
            "a = 1 and b = 2\n",
            "a =  1 b =  2\n",
            "a = 1 b = 2\n",
            "1.000000+ 2.000000 = 3.000000\n"
          ],
          "name": "stdout"
        }
      ]
    },
    {
      "cell_type": "code",
      "metadata": {
        "id": "KFJY_g3rdMe4",
        "colab_type": "code",
        "outputId": "1c0eaff6-002a-4cf5-b73a-dc8afab3c899",
        "colab": {
          "base_uri": "https://localhost:8080/",
          "height": 1000
        }
      },
      "source": [
        "# file 에서 입출력 - 저장할때 1줄씩 저장\n",
        "\n",
        "\"\"\"\n",
        "입력\n",
        "\"\"\"\n",
        "f = open('/content/Read me.txt','w')\n",
        "\n",
        "for i in range(10):\n",
        "  f.write(\"%d \\n\"%i)\n",
        "f.close()\n",
        "\n",
        "\"\"\"\n",
        "출력\n",
        "\"\"\"\n",
        "\n",
        "f = open('/content/Read me.txt','r')\n",
        "\n",
        "while(1):\n",
        "  a = f.readline() # 줄별로 읽기\n",
        "  if(a != \"\"):\n",
        "    print(a,end=\"\")\n",
        "  else:\n",
        "    print(\"\\n\")\n",
        "    break;\n",
        "f.close()\n",
        "\n",
        "f = open('/content/Read me.txt','r')\n",
        "b = f.read() # 한꺼번에 읽기\n",
        "print(b, '\\n')\n",
        "f.close()\n",
        "\n",
        "f = open('/content/Read me.txt','r')\n",
        "b = f.readlines() # 한꺼번에 읽기 but \\n 도 같이 나타냄\n",
        "print(b, '\\n')\n",
        "for i in b:\n",
        "  print(i) # \\n 포함\n",
        "for i in b:\n",
        "  print(i[:-1])\n",
        "f.close()"
      ],
      "execution_count": 40,
      "outputs": [
        {
          "output_type": "stream",
          "text": [
            "0 \n",
            "1 \n",
            "2 \n",
            "3 \n",
            "4 \n",
            "5 \n",
            "6 \n",
            "7 \n",
            "8 \n",
            "9 \n",
            "\n",
            "\n",
            "0 \n",
            "1 \n",
            "2 \n",
            "3 \n",
            "4 \n",
            "5 \n",
            "6 \n",
            "7 \n",
            "8 \n",
            "9 \n",
            " \n",
            "\n",
            "['0 \\n', '1 \\n', '2 \\n', '3 \\n', '4 \\n', '5 \\n', '6 \\n', '7 \\n', '8 \\n', '9 \\n'] \n",
            "\n",
            "0 \n",
            "\n",
            "1 \n",
            "\n",
            "2 \n",
            "\n",
            "3 \n",
            "\n",
            "4 \n",
            "\n",
            "5 \n",
            "\n",
            "6 \n",
            "\n",
            "7 \n",
            "\n",
            "8 \n",
            "\n",
            "9 \n",
            "\n",
            "0 \n",
            "1 \n",
            "2 \n",
            "3 \n",
            "4 \n",
            "5 \n",
            "6 \n",
            "7 \n",
            "8 \n",
            "9 \n"
          ],
          "name": "stdout"
        }
      ]
    },
    {
      "cell_type": "code",
      "metadata": {
        "id": "UO3y2WRYsi54",
        "colab_type": "code",
        "colab": {
          "base_uri": "https://localhost:8080/",
          "height": 125
        },
        "outputId": "072f3b9e-c4bd-4da7-e831-764f1dccd531"
      },
      "source": [
        "# Call by object reference #1\n",
        "\n",
        "a = 5\n",
        "b = 3\n",
        "print(a,b)\n",
        "print(id(a), id(b))\n",
        "\n",
        "(a,b) = (b,a)\n",
        "print(a,b)\n",
        "print(id(a), id(b))\n",
        "\n",
        "(a,b) = (b,a)\n",
        "print(a,b)\n",
        "print(id(a), id(b))\n"
      ],
      "execution_count": 45,
      "outputs": [
        {
          "output_type": "stream",
          "text": [
            "5 3\n",
            "10914624 10914560\n",
            "3 5\n",
            "10914560 10914624\n",
            "5 3\n",
            "10914624 10914560\n"
          ],
          "name": "stdout"
        }
      ]
    },
    {
      "cell_type": "code",
      "metadata": {
        "id": "QrsWa4LnwWLQ",
        "colab_type": "code",
        "colab": {
          "base_uri": "https://localhost:8080/",
          "height": 470
        },
        "outputId": "7beaed22-8fb0-4917-fbb1-ce3ff88944b9"
      },
      "source": [
        "# Call by object reference #2\n",
        "\n",
        "\"\"\"\n",
        "def 안에서 이루어진 것들은 그 주소값의 고유값이 바뀌지 않는이상 (mutable object 가 아예 바뀌지 않는 이상)\n",
        "함수 밖을 빠져나가면 원래대로 돌아감. -> global, local 개념 + call by object reference\n",
        "\n",
        "\"\"\"\n",
        "\n",
        "def swap(a,b):\n",
        "  print(id(a), id(b),'\\n')\n",
        "  (a,b) = (b,a)\n",
        "  print(a,b)\n",
        "  print(id(a),id(b),'\\n')\n",
        "\n",
        "  return\n",
        "  \n",
        "def fill(a):\n",
        "  a[0] = 3;\n",
        "  print(a, id(a))\n",
        "  return\n",
        "\n",
        "a= 2\n",
        "b = 3\n",
        "\n",
        "print(a,b)\n",
        "swap(a,b)\n",
        "print(a,b)\n",
        "print(id(a),id(b),'\\n')\n",
        "\n",
        "a = [1,2]\n",
        "b = [3,4]\n",
        "print(a,b)\n",
        "print(id(a),id(b),'\\n')\n",
        "\n",
        "a[0] = 2\n",
        "b[0] = 3\n",
        "\n",
        "print(a,b)\n",
        "swap(a,b)\n",
        "print(a,b)\n",
        "print(id(a),id(b),'\\n')\n",
        "\n",
        "a = [1]\n",
        "print(a, id(a))\n",
        "a[0] = 4\n",
        "\n",
        "print(a, id(a))\n",
        "fill(a)\n",
        "print(a, id(a))"
      ],
      "execution_count": 69,
      "outputs": [
        {
          "output_type": "stream",
          "text": [
            "2 3\n",
            "10914528 10914560 \n",
            "\n",
            "3 2\n",
            "10914560 10914528 \n",
            "\n",
            "2 3\n",
            "10914528 10914560 \n",
            "\n",
            "[1, 2] [3, 4]\n",
            "140674491738376 140674491739848 \n",
            "\n",
            "[2, 2] [3, 4]\n",
            "140674491738376 140674491739848 \n",
            "\n",
            "[3, 4] [2, 2]\n",
            "140674491739848 140674491738376 \n",
            "\n",
            "[2, 2] [3, 4]\n",
            "140674491738376 140674491739848 \n",
            "\n",
            "[1] 140674492169096\n",
            "[4] 140674492169096\n",
            "[3] 140674492169096\n",
            "[3] 140674492169096\n"
          ],
          "name": "stdout"
        }
      ]
    },
    {
      "cell_type": "code",
      "metadata": {
        "id": "PyycDQxR1Ngp",
        "colab_type": "code",
        "colab": {
          "base_uri": "https://localhost:8080/",
          "height": 107
        },
        "outputId": "c6c09b04-63bf-4434-ffd7-5b8d638df6e1"
      },
      "source": [
        "# global, local 개념\n",
        "\n",
        "ga = 1\n",
        "\n",
        "def inc(): # increment -> global\n",
        "  global ga\n",
        "  ga = ga + 1\n",
        "  return(ga)\n",
        "\n",
        "print(ga)\n",
        "inc()\n",
        "print(ga,'\\n')\n",
        "\n",
        "ga = 1\n",
        "\n",
        "def inc(): # increment -> local\n",
        "  ga = 1\n",
        "  ga = ga + 1\n",
        "  print(ga)\n",
        "  return \n",
        "  \n",
        "inc()\n",
        "print(ga)"
      ],
      "execution_count": 79,
      "outputs": [
        {
          "output_type": "stream",
          "text": [
            "1\n",
            "2 \n",
            "\n",
            "2\n",
            "1\n"
          ],
          "name": "stdout"
        }
      ]
    },
    {
      "cell_type": "code",
      "metadata": {
        "id": "sRVpvu0B4SVr",
        "colab_type": "code",
        "colab": {
          "base_uri": "https://localhost:8080/",
          "height": 71
        },
        "outputId": "6253b98e-a393-4971-c817-34c3739d99bd"
      },
      "source": [
        "# argv. argc 는 나중에 다시공부\n",
        "\n",
        "import sys\n",
        "\n",
        "option = sys.argv[1]\n",
        "memo = sys.argv[2]\n",
        "\n",
        "print(sys.argv[0])\n",
        "print(option)\n",
        "print(memo)"
      ],
      "execution_count": 87,
      "outputs": [
        {
          "output_type": "stream",
          "text": [
            "/usr/local/lib/python3.6/dist-packages/ipykernel_launcher.py\n",
            "-f\n",
            "/root/.local/share/jupyter/runtime/kernel-513b46eb-54ce-4cbf-a13e-f52e6fe80cae.json\n"
          ],
          "name": "stdout"
        }
      ]
    },
    {
      "cell_type": "code",
      "metadata": {
        "id": "lgYnwHjW-MdJ",
        "colab_type": "code",
        "colab": {}
      },
      "source": [
        "# spyder 용 argv 코드 -> colab 은 argv[2] 의 값이 이미 있으므로 else 로 넘어가 오류가 뜸.\n",
        "import sys\n",
        "print(len(sys.argv))\n",
        "print(sys.argv[0])\n",
        "\n",
        "if len(sys.argv) <2 :\n",
        "    print(\"usage %s\" %sys.argv[0])\n",
        "    filename = input('please type file name:') # 예를들어 Matrix.py (spyder-py3 안에 들어있는 파일)\n",
        "\n",
        "else:\n",
        "    argv[1] = filename #argv[1] = Matrix.py\n",
        "\n",
        "\n",
        "while(True):\n",
        "    try:\n",
        "        print('The File is: %s' %filename) \n",
        "        f = open(filename,'r')\n",
        "        while(1):\n",
        "            import Matrix #Matrix.py 파일 실행\n",
        "            break\n",
        "        break\n",
        "    except:\n",
        "        print('[Error]No such file: %s' %filename)   #만약 없는 파일이면 다시 입력받음\n",
        "        filename = input('please try again!!! Type file name: >>>')\n"
      ],
      "execution_count": 0,
      "outputs": []
    },
    {
      "cell_type": "code",
      "metadata": {
        "id": "ak4UqCtB_DnW",
        "colab_type": "code",
        "colab": {
          "base_uri": "https://localhost:8080/",
          "height": 397
        },
        "outputId": "c3a10ada-73b4-4576-cf8c-bc4796656e03"
      },
      "source": [
        "# string 연산, 추가, 교체\n",
        "\n",
        "import numpy as np\n",
        "\n",
        "s = 'hello'\n",
        "ss = 'world'\n",
        "sss = s +' ' + ss\n",
        "print(sss)\n",
        "\n",
        "if( s=='hello'):\n",
        "  print('bingo')\n",
        "  len(s)\n",
        "  print(s[1])\n",
        "  print(s.count('l'), ' \\n')\n",
        "\n",
        "ssss = 'hello %s %s welcome' % (\"쿠루미상\", \"호잇\")\n",
        "print(ssss)\n",
        "print(type(ssss))\n",
        "# ssss[0] = 'k' -> 불가. string : immutable\n",
        "print(' \\n')\n",
        "\n",
        "ssss= ssss.replace('호잇', '쿠루미상2') # 단어를 바로 대체하는것\n",
        "print(ssss)\n",
        "print(' \\n')\n",
        "\n",
        "split = ssss.split() #list 로 변경후에\n",
        "print(split)\n",
        "print(type(split))\n",
        "split[0] = '호잇'  #mutable 객체이므로 바꿔주기\n",
        "print(split)\n",
        "print(' \\n')\n",
        "\n",
        "\n",
        "ssss = np.array(ssss) # numpy.ndarray 로 type 바꿔주기\n",
        "print(ssss)\n",
        "print(type(ssss))\n",
        "print(' \\n')"
      ],
      "execution_count": 138,
      "outputs": [
        {
          "output_type": "stream",
          "text": [
            "hello world\n",
            "bingo\n",
            "e\n",
            "2  \n",
            "\n",
            "hello 쿠루미상 호잇 welcome\n",
            "<class 'str'>\n",
            " \n",
            "\n",
            "hello 쿠루미상 쿠루미상2 welcome\n",
            " \n",
            "\n",
            "['hello', '쿠루미상', '쿠루미상2', 'welcome']\n",
            "<class 'list'>\n",
            "['호잇', '쿠루미상', '쿠루미상2', 'welcome']\n",
            " \n",
            "\n",
            "hello 쿠루미상 쿠루미상2 welcome\n",
            "<class 'numpy.ndarray'>\n",
            " \n",
            "\n"
          ],
          "name": "stdout"
        }
      ]
    },
    {
      "cell_type": "code",
      "metadata": {
        "id": "9sISVbxNEz4h",
        "colab_type": "code",
        "colab": {
          "base_uri": "https://localhost:8080/",
          "height": 144
        },
        "outputId": "384314eb-2fd9-4ebb-98e9-1c748cbc1e00"
      },
      "source": [
        "#namespace # local & global\n",
        "\n",
        "def func1():\n",
        "  a = 20\n",
        "\n",
        "  while True:\n",
        "    def func2():\n",
        "      a = 30\n",
        "      print(locals())\n",
        "    func2()\n",
        "    a = 30\n",
        "    break\n",
        "  print(locals())\n",
        " \n",
        "func1()\n",
        "print('\\n')\n",
        "\n",
        "\n",
        "\n",
        "a = 20\n",
        "\n",
        "def func3():\n",
        "  global a\n",
        "  a = a + 1\n",
        "  while True:\n",
        "    def func4():\n",
        "      a = 30\n",
        "      a = a + 1\n",
        "      print(a)\n",
        "    func4()\n",
        "    break\n",
        "  print(a)\n",
        "print(a)\n",
        "func3()"
      ],
      "execution_count": 161,
      "outputs": [
        {
          "output_type": "stream",
          "text": [
            "{'a': 30}\n",
            "{'func2': <function func1.<locals>.func2 at 0x7ff1550dd510>, 'a': 30}\n",
            "\n",
            "\n",
            "20\n",
            "31\n",
            "21\n"
          ],
          "name": "stdout"
        }
      ]
    }
  ]
}
