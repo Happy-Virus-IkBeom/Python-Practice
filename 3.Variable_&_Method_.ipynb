{
  "nbformat": 4,
  "nbformat_minor": 0,
  "metadata": {
    "colab": {
      "name": "Variable & Method .ipynb",
      "provenance": [],
      "collapsed_sections": [],
      "authorship_tag": "ABX9TyPSJa2LOZW9frfz5U7gAPR/",
      "include_colab_link": true
    },
    "kernelspec": {
      "name": "python3",
      "display_name": "Python 3"
    }
  },
  "cells": [
    {
      "cell_type": "markdown",
      "metadata": {
        "id": "view-in-github",
        "colab_type": "text"
      },
      "source": [
        "<a href=\"https://colab.research.google.com/github/Happy-Virus-IkBeom/Python-Practice/blob/master/Variable_%26_Method_.ipynb\" target=\"_parent\"><img src=\"https://colab.research.google.com/assets/colab-badge.svg\" alt=\"Open In Colab\"/></a>"
      ]
    },
    {
      "cell_type": "code",
      "metadata": {
        "id": "TD47Ezs5ituB",
        "colab_type": "code",
        "colab": {}
      },
      "source": [
        "class Amazon:\n",
        "  strength = 20 #strength, dexterity, vitality, energy는 변수\n",
        "  dexterity = 25\n",
        "  vitality = 20\n",
        "  energy = 15\n",
        "\n",
        "  def attack(self): #여기서 attack 이 method(매서드), self 는 클래스의 객체\n",
        "    return 'Jab!!!'\n",
        "  \n",
        "  def exercise(self):\n",
        "    self.strength += 2\n",
        "    self.dexterity += 3\n",
        "    self.vitality += 1\n"
      ],
      "execution_count": 8,
      "outputs": []
    },
    {
      "cell_type": "code",
      "metadata": {
        "id": "Gj1SBy-DjAUp",
        "colab_type": "code",
        "colab": {}
      },
      "source": [
        "jane = Amazon()\n",
        "mary = Amazon()"
      ],
      "execution_count": 2,
      "outputs": []
    },
    {
      "cell_type": "code",
      "metadata": {
        "id": "TeLvR_6hjPUN",
        "colab_type": "code",
        "colab": {
          "base_uri": "https://localhost:8080/",
          "height": 70
        },
        "outputId": "e1945a8b-4a20-4d58-bbba-03f51abf839a"
      },
      "source": [
        "print(jane.strength)\n",
        "print(jane.vitality)\n",
        "jane.attack()"
      ],
      "execution_count": 4,
      "outputs": [
        {
          "output_type": "stream",
          "text": [
            "20\n",
            "20\n"
          ],
          "name": "stdout"
        },
        {
          "output_type": "execute_result",
          "data": {
            "application/vnd.google.colaboratory.intrinsic": {
              "type": "string"
            },
            "text/plain": [
              "'Jab!!!'"
            ]
          },
          "metadata": {
            "tags": []
          },
          "execution_count": 4
        }
      ]
    },
    {
      "cell_type": "code",
      "metadata": {
        "id": "aQTonemhj_6y",
        "colab_type": "code",
        "colab": {
          "base_uri": "https://localhost:8080/",
          "height": 34
        },
        "outputId": "c339c18e-784b-4654-fee0-b76fa2294deb"
      },
      "source": [
        "eve = Amazon()\n",
        "eve.exercise()\n",
        "eve.strength"
      ],
      "execution_count": 9,
      "outputs": [
        {
          "output_type": "execute_result",
          "data": {
            "text/plain": [
              "22"
            ]
          },
          "metadata": {
            "tags": []
          },
          "execution_count": 9
        }
      ]
    }
  ]
}
