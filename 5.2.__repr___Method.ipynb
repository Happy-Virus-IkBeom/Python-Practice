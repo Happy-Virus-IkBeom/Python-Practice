{
  "nbformat": 4,
  "nbformat_minor": 0,
  "metadata": {
    "colab": {
      "name": "5.2.__repr__ Method.ipynb",
      "provenance": [],
      "collapsed_sections": [],
      "authorship_tag": "ABX9TyN6q4XPf3qAOm3R68QOx1Kw",
      "include_colab_link": true
    },
    "kernelspec": {
      "name": "python3",
      "display_name": "Python 3"
    }
  },
  "cells": [
    {
      "cell_type": "markdown",
      "metadata": {
        "id": "view-in-github",
        "colab_type": "text"
      },
      "source": [
        "<a href=\"https://colab.research.google.com/github/Happy-Virus-IkBeom/Python-Practice/blob/master/5.2.__repr___Method.ipynb\" target=\"_parent\"><img src=\"https://colab.research.google.com/assets/colab-badge.svg\" alt=\"Open In Colab\"/></a>"
      ]
    },
    {
      "cell_type": "code",
      "metadata": {
        "id": "CgCZHSB5RggN",
        "colab_type": "code",
        "colab": {}
      },
      "source": [
        "\"\"\" __repr__ Method 추가 \"\"\"\n",
        "\n",
        "class Book:\n",
        "\n",
        "    def setData(self, title, price, author):\n",
        "        self.title = title\n",
        "        self.price = price\n",
        "        self.author = author\n",
        "\n",
        "    def printData(self):\n",
        "        print ('제목 : ', self.title)\n",
        "        print ('가격 : ', self.price)\n",
        "        print ('저자 : ', self.author)\n",
        "\n",
        "    def __repr__(self): \n",
        "      return self.title # return이 특이한점.\n",
        "    \n",
        "    def __init__(self):\n",
        "        print ('책 객체를 새로 만들었어요~')"
      ],
      "execution_count": 9,
      "outputs": []
    },
    {
      "cell_type": "code",
      "metadata": {
        "id": "oCQAJF5TSHKb",
        "colab_type": "code",
        "colab": {
          "base_uri": "https://localhost:8080/",
          "height": 34
        },
        "outputId": "65948741-bfe4-4dd9-d8ed-a40c59e933e0"
      },
      "source": [
        "b3 = Book()"
      ],
      "execution_count": 12,
      "outputs": [
        {
          "output_type": "stream",
          "text": [
            "책 객체를 새로 만들었어요~\n"
          ],
          "name": "stdout"
        }
      ]
    },
    {
      "cell_type": "code",
      "metadata": {
        "id": "jOmuog1jSM6_",
        "colab_type": "code",
        "colab": {
          "base_uri": "https://localhost:8080/",
          "height": 70
        },
        "outputId": "f55bb763-dd2c-44cd-e7c6-216f5afb9ff2"
      },
      "source": [
        "b3.setData('나두 좀 줘','100원','쥐벼룩')\n",
        "b3.printData()"
      ],
      "execution_count": 15,
      "outputs": [
        {
          "output_type": "stream",
          "text": [
            "제목 :  나두 좀 줘\n",
            "가격 :  100원\n",
            "저자 :  쥐벼룩\n"
          ],
          "name": "stdout"
        }
      ]
    },
    {
      "cell_type": "code",
      "metadata": {
        "id": "EvhIOWW0TuHD",
        "colab_type": "code",
        "colab": {
          "base_uri": "https://localhost:8080/",
          "height": 34
        },
        "outputId": "5b4ad93f-5a29-4789-b92a-ae38d8ba6e07"
      },
      "source": [
        "b3.__repr__\n",
        "print (b3.__repr__)"
      ],
      "execution_count": 18,
      "outputs": [
        {
          "output_type": "stream",
          "text": [
            "<bound method Book.__repr__ of 나두 좀 줘>\n"
          ],
          "name": "stdout"
        }
      ]
    },
    {
      "cell_type": "code",
      "metadata": {
        "id": "Fo5J6NT9Ty35",
        "colab_type": "code",
        "colab": {
          "base_uri": "https://localhost:8080/",
          "height": 34
        },
        "outputId": "2deed54b-268e-4c57-fb37-611d61e62703"
      },
      "source": [
        "print(b3)"
      ],
      "execution_count": 20,
      "outputs": [
        {
          "output_type": "stream",
          "text": [
            "나두 좀 줘\n"
          ],
          "name": "stdout"
        }
      ]
    }
  ]
}