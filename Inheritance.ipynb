{
  "nbformat": 4,
  "nbformat_minor": 0,
  "metadata": {
    "colab": {
      "name": "Inheritance.ipynb",
      "provenance": [],
      "collapsed_sections": [],
      "authorship_tag": "ABX9TyPNOwaeICESruQJXw6IHZPM",
      "include_colab_link": true
    },
    "kernelspec": {
      "name": "python3",
      "display_name": "Python 3"
    }
  },
  "cells": [
    {
      "cell_type": "markdown",
      "metadata": {
        "id": "view-in-github",
        "colab_type": "text"
      },
      "source": [
        "<a href=\"https://colab.research.google.com/github/Happy-Virus-IkBeom/Python-Practice/blob/master/Inheritance.ipynb\" target=\"_parent\"><img src=\"https://colab.research.google.com/assets/colab-badge.svg\" alt=\"Open In Colab\"/></a>"
      ]
    },
    {
      "cell_type": "code",
      "metadata": {
        "id": "CfKkKat6lttG",
        "colab_type": "code",
        "colab": {}
      },
      "source": [
        "class Person:\n",
        "  eyes = 2\n",
        "  nose = 1\n",
        "  mouth = 1\n",
        "  ears = 2\n",
        "  arms = 2\n",
        "  legs = 2\n",
        "\n",
        "  def eat(self):\n",
        "    print('냠냠')\n",
        "\n",
        "  def sleep(self):\n",
        "    print('쿨쿨...')\n",
        "  \n",
        "  def talk(self):\n",
        "    print('주절주절...')"
      ],
      "execution_count": 3,
      "outputs": []
    },
    {
      "cell_type": "code",
      "metadata": {
        "id": "7reCw46lmKMQ",
        "colab_type": "code",
        "colab": {
          "base_uri": "https://localhost:8080/",
          "height": 34
        },
        "outputId": "05d0339a-e1fb-4216-fb2e-532e9864230a"
      },
      "source": [
        "hoit = Person()\n",
        "hoit.eat()"
      ],
      "execution_count": 4,
      "outputs": [
        {
          "output_type": "stream",
          "text": [
            "냠냠\n"
          ],
          "name": "stdout"
        }
      ]
    },
    {
      "cell_type": "code",
      "metadata": {
        "id": "1D6bTVftmYP1",
        "colab_type": "code",
        "colab": {}
      },
      "source": [
        "class Student(Person): #Person class를 상속(inherit)받음\n",
        "  def study(self):\n",
        "    print('열공열공...')"
      ],
      "execution_count": 5,
      "outputs": []
    },
    {
      "cell_type": "code",
      "metadata": {
        "id": "QYzHHh0Sm3wE",
        "colab_type": "code",
        "colab": {
          "base_uri": "https://localhost:8080/",
          "height": 270
        },
        "outputId": "594e66a9-f2bd-4730-b364-843b84a001e9"
      },
      "source": [
        "\"\"\" Inheritance 도식화 \"\"\"\n",
        "import cv2\n",
        "from google.colab.patches import cv2_imshow\n",
        "img_path = '/content/Class.png'\n",
        "img = cv2.imread(img_path, flags = 1)\n",
        "cv2_imshow(img)"
      ],
      "execution_count": 16,
      "outputs": [
        {
          "output_type": "display_data",
          "data": {
            "image/png": "[encoded data removed]",
            "text/plain": [
              "<PIL.Image.Image image mode=RGB size=395x253 at 0x7F7A64D326D8>"
            ]
          },
          "metadata": {
            "tags": []
          }
        }
      ]
    },
    {
      "cell_type": "code",
      "metadata": {
        "id": "9TJ6iI7Wn5jJ",
        "colab_type": "code",
        "colab": {
          "base_uri": "https://localhost:8080/",
          "height": 52
        },
        "outputId": "89fb046a-35f6-4336-fbec-12ae02ac8a4d"
      },
      "source": [
        "hoit = Person()\n",
        "print(hoit.mouth)\n",
        "hoit.talk()"
      ],
      "execution_count": 19,
      "outputs": [
        {
          "output_type": "stream",
          "text": [
            "1\n",
            "주절주절...\n"
          ],
          "name": "stdout"
        }
      ]
    },
    {
      "cell_type": "code",
      "metadata": {
        "id": "ofTGVVNtoiyx",
        "colab_type": "code",
        "colab": {
          "base_uri": "https://localhost:8080/",
          "height": 70
        },
        "outputId": "5d579bf9-2569-4f9c-b44c-c8facb16fae5"
      },
      "source": [
        "쿠루미상 = Student()\n",
        "print(쿠루미상.mouth)\n",
        "쿠루미상.talk()\n",
        "쿠루미상.study()"
      ],
      "execution_count": 21,
      "outputs": [
        {
          "output_type": "stream",
          "text": [
            "1\n",
            "주절주절...\n",
            "열공열공...\n"
          ],
          "name": "stdout"
        }
      ]
    }
  ]
}