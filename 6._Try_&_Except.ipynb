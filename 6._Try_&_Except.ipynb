{
  "nbformat": 4,
  "nbformat_minor": 0,
  "metadata": {
    "colab": {
      "name": "6.Try & Except.ipynb",
      "provenance": [],
      "collapsed_sections": [],
      "authorship_tag": "ABX9TyOOvUu8extZj/39rN73OBdO",
      "include_colab_link": true
    },
    "kernelspec": {
      "name": "python3",
      "display_name": "Python 3"
    }
  },
  "cells": [
    {
      "cell_type": "markdown",
      "metadata": {
        "id": "view-in-github",
        "colab_type": "text"
      },
      "source": [
        "<a href=\"https://colab.research.google.com/github/Happy-Virus-IkBeom/Python-Practice/blob/master/6_Try_%26_Except.ipynb\" target=\"_parent\"><img src=\"https://colab.research.google.com/assets/colab-badge.svg\" alt=\"Open In Colab\"/></a>"
      ]
    },
    {
      "cell_type": "code",
      "metadata": {
        "id": "KAJuYUXStG9G",
        "colab_type": "code",
        "colab": {}
      },
      "source": [
        "\"\"\"\n",
        "프로그램을 작성하다보면 오류가 발생할 수 있는 경우는 끝도 없습니다.\n",
        "우리가 이런 오류를 모두 예상해서 프로그램을 작성한다는 것은 정말로 '삽질'이라고 밖에 할 수 없겠네요.\n",
        "앞의 예에서 불능과 부정을 정해준 것은 나쁘지 않다고 하더라도, 다른 두 경우까지 각각 처리해주는 건 시간 낭비이겠죠?\n",
        "\n",
        "다행히 파이썬에선 이런 문제를 쉽게 해결해주는 방법이 있답니다.\n",
        "위와 같이 프로그래머의 의도와 동떨어진 상황이 발생하는 것을 예외(exception)라고 해서,\n",
        "예외가 발생하면 어떤 조치를 취할 것인지 정해주는 것이죠.\n",
        "\"\"\""
      ],
      "execution_count": null,
      "outputs": []
    },
    {
      "cell_type": "code",
      "metadata": {
        "id": "fyz9WtNftSAk",
        "colab_type": "code",
        "colab": {}
      },
      "source": [
        "def f(a,b):\n",
        "  try:\n",
        "    if a and b:\n",
        "      return (a * b) + (a / b)\n",
        "\n",
        "    elif a: # a와 b가 동시에 1이 아닐경우 & a가 1일때 => a = 1, b = 0 일경우\n",
        "      return ('불능')\n",
        "    \n",
        "    else: # a = 0. b = 0\n",
        "      return ('부정')\n",
        "  \n",
        "  except:\n",
        "    return ('재미지군. 위의 방법으로 해봤는데 오류가 생기므로 except로 처리했어.')"
      ],
      "execution_count": 2,
      "outputs": []
    },
    {
      "cell_type": "code",
      "metadata": {
        "id": "_cc_UfxuuENW",
        "colab_type": "code",
        "colab": {
          "base_uri": "https://localhost:8080/",
          "height": 34
        },
        "outputId": "0a42888f-36cb-4670-9930-79dbc2b6feda"
      },
      "source": [
        "print(f('이십','오'))"
      ],
      "execution_count": 5,
      "outputs": [
        {
          "output_type": "stream",
          "text": [
            "재미지군. 위의 방법으로 해봤는데 오류가 생기므로 except로 처리했어.\n"
          ],
          "name": "stdout"
        }
      ]
    },
    {
      "cell_type": "code",
      "metadata": {
        "id": "TY66RiLauXVd",
        "colab_type": "code",
        "colab": {
          "base_uri": "https://localhost:8080/",
          "height": 34
        },
        "outputId": "98988aa2-4603-4942-db94-bbc0529955d3"
      },
      "source": [
        "print(f(3,0))"
      ],
      "execution_count": 6,
      "outputs": [
        {
          "output_type": "stream",
          "text": [
            "불능\n"
          ],
          "name": "stdout"
        }
      ]
    },
    {
      "cell_type": "code",
      "metadata": {
        "id": "aKbjThU6uaS0",
        "colab_type": "code",
        "colab": {
          "base_uri": "https://localhost:8080/",
          "height": 34
        },
        "outputId": "9216b457-bd5f-4c35-87c0-2538db66b714"
      },
      "source": [
        "print(f(0,0))"
      ],
      "execution_count": 7,
      "outputs": [
        {
          "output_type": "stream",
          "text": [
            "부정\n"
          ],
          "name": "stdout"
        }
      ]
    },
    {
      "cell_type": "code",
      "metadata": {
        "id": "FmBzOm5mucXa",
        "colab_type": "code",
        "colab": {
          "base_uri": "https://localhost:8080/",
          "height": 34
        },
        "outputId": "e6c949e5-9712-495d-9eff-5f4bbca933d4"
      },
      "source": [
        "print(f(2,7))"
      ],
      "execution_count": 8,
      "outputs": [
        {
          "output_type": "stream",
          "text": [
            "14.285714285714286\n"
          ],
          "name": "stdout"
        }
      ]
    }
  ]
}
