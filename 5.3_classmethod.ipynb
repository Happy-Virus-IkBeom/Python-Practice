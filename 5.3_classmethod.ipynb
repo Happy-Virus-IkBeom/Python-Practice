{
  "nbformat": 4,
  "nbformat_minor": 0,
  "metadata": {
    "colab": {
      "name": "5.3.@classmethod.ipynb",
      "provenance": [],
      "collapsed_sections": [],
      "authorship_tag": "ABX9TyMVMq1nCEGi/kM/zo4DTJH5",
      "include_colab_link": true
    },
    "kernelspec": {
      "name": "python3",
      "display_name": "Python 3"
    }
  },
  "cells": [
    {
      "cell_type": "markdown",
      "metadata": {
        "id": "view-in-github",
        "colab_type": "text"
      },
      "source": [
        "<a href=\"https://colab.research.google.com/github/Happy-Virus-IkBeom/Python-Practice/blob/master/5_3_classmethod.ipynb\" target=\"_parent\"><img src=\"https://colab.research.google.com/assets/colab-badge.svg\" alt=\"Open In Colab\"/></a>"
      ]
    },
    {
      "cell_type": "code",
      "metadata": {
        "id": "3rnz5RqBeEV1",
        "colab_type": "code",
        "colab": {}
      },
      "source": [
        "class Store:\n",
        "  def __init__(self,jjajang, jjampong):\n",
        "    self.jjajang = jjajang\n",
        "    self.jjampong = jjampong\n",
        "  \n",
        "  def total_order(self):\n",
        "    return (self.jjajang + self. jjampong)\n",
        "  \n",
        "  @classmethod\n",
        "  def same4each(cls, double): #cls를 첫번째 파라미터로 사용\n",
        "    return cls(double, double)"
      ],
      "execution_count": 1,
      "outputs": []
    },
    {
      "cell_type": "code",
      "metadata": {
        "id": "ctd9pBidfBjo",
        "colab_type": "code",
        "colab": {
          "base_uri": "https://localhost:8080/",
          "height": 34
        },
        "outputId": "cd0a9b0d-5d73-4fd0-fd04-ec1f4cb5803e"
      },
      "source": [
        "Order1 = Store(3,2)\n",
        "print(Order1.total_order())"
      ],
      "execution_count": 2,
      "outputs": [
        {
          "output_type": "stream",
          "text": [
            "5\n"
          ],
          "name": "stdout"
        }
      ]
    },
    {
      "cell_type": "code",
      "metadata": {
        "id": "wnZNOBTQfHuY",
        "colab_type": "code",
        "colab": {
          "base_uri": "https://localhost:8080/",
          "height": 34
        },
        "outputId": "b803efc7-49ba-4fc7-a117-e6196f6a6a15"
      },
      "source": [
        "Order2 = Store.same4each(3)\n",
        "print(Order2.total_order())"
      ],
      "execution_count": 3,
      "outputs": [
        {
          "output_type": "stream",
          "text": [
            "6\n"
          ],
          "name": "stdout"
        }
      ]
    },
    {
      "cell_type": "markdown",
      "metadata": {
        "id": "hPrpxMYAfNdV",
        "colab_type": "text"
      },
      "source": [
        "클래스 메소드는 클래스에서 호출이되고 인스턴스 메소드가 첫번째 파라미터로 자신의 인스턴스를 \"self\"로 전달하는 것과는 달리 \"cls\"라는 파라미터로 자신의 클래스를 전달합니다. \n",
        "\n",
        "용도는 클래스 생성자에 다른 형태의 파라미터를 전달하기위해 사용한다고 합니다. 인스턴스 메소드에서는 인스턴스에 국한하여 데이터를 사용한다면 클래스 메소드는 인스턴스가 공유하는 클래스 데이터를 사용할 수 있습니다.\n",
        "\n",
        "클래스 메소드를 지정하기위해서는 classmethod 라는 키워드를 사용하는데 골뱅이(@)표시와 합께 키워드를 표시해서 메소드가 클래스 메소드임을 표시합니다. 여기서\"@classmethod\"같은 표식을 데코레이터(decorator)라고 합니다. 데코레이터는 해당 블럭의 앞뒤를 다른 코드로 둘러싸주는 용도로 사용될 수 있는데 \"@classmethod\"는 파이썬이서 내장된 코드가 있어서 그 코드로 둘러싸서 클래스 메소드로 변경이 되는구나 정도로 이해하고 있습니다.\n",
        "\n",
        "\"Store\"라는 클래스는 짜장면과 짬뽕이 각각 몇개인지 2개의 파라미터를 입력받고 있습니다. 그런데 여기서 \"same4each\"를 클래스 메소드로 만들어서 한개의 파라미터만 입력받는대신 입력받은 파라미터를 동일하게 두개의 파라미터로 만들어서 \"cls\"라는 새로운 클래스 객체를 통해 반환했습니다. 여기서 사용한 \"cls\"라는 표현은 다른 표현으로 바꾸어서도 사용할 수 있으나 클래스라는 표현으로 cls를 많이들 사용해서 관용적으로 사용된다고 합니다.\n",
        "\n",
        "\n"
      ]
    },
    {
      "cell_type": "code",
      "metadata": {
        "id": "vdBPJ4TnfjbN",
        "colab_type": "code",
        "colab": {
          "base_uri": "https://localhost:8080/",
          "height": 223
        },
        "outputId": "97ece538-4067-4356-a227-979315af90a4"
      },
      "source": [
        "class Store:\n",
        "  def __init__(self,jjajang, jjampong):\n",
        "    self.jjajang = jjajang\n",
        "    self.jjampong = jjampong\n",
        "  \n",
        "  def total_order(self):\n",
        "    return (self.jjajang + self. jjampong)\n",
        "  \n",
        "  def same4each(self, double): # classmethod를 제외하고 첫번째 파라미터를 cls에서 self로 변경하였더니 에러가 뜸.\n",
        "    return self(double, double)\n",
        "\n",
        "order1 = Store.same4each(3)\n",
        "print(order1.total_order())"
      ],
      "execution_count": 6,
      "outputs": [
        {
          "output_type": "error",
          "ename": "TypeError",
          "evalue": "ignored",
          "traceback": [
            "\u001b[0;31m---------------------------------------------------------------------------\u001b[0m",
            "\u001b[0;31mTypeError\u001b[0m                                 Traceback (most recent call last)",
            "\u001b[0;32m<ipython-input-6-05d9561b74f5>\u001b[0m in \u001b[0;36m<module>\u001b[0;34m()\u001b[0m\n\u001b[1;32m     10\u001b[0m     \u001b[0;32mreturn\u001b[0m \u001b[0mself\u001b[0m\u001b[0;34m(\u001b[0m\u001b[0mdouble\u001b[0m\u001b[0;34m,\u001b[0m \u001b[0mdouble\u001b[0m\u001b[0;34m)\u001b[0m\u001b[0;34m\u001b[0m\u001b[0;34m\u001b[0m\u001b[0m\n\u001b[1;32m     11\u001b[0m \u001b[0;34m\u001b[0m\u001b[0m\n\u001b[0;32m---> 12\u001b[0;31m \u001b[0morder1\u001b[0m \u001b[0;34m=\u001b[0m \u001b[0mStore\u001b[0m\u001b[0;34m.\u001b[0m\u001b[0msame4each\u001b[0m\u001b[0;34m(\u001b[0m\u001b[0;36m3\u001b[0m\u001b[0;34m)\u001b[0m\u001b[0;34m\u001b[0m\u001b[0;34m\u001b[0m\u001b[0m\n\u001b[0m\u001b[1;32m     13\u001b[0m \u001b[0mprint\u001b[0m\u001b[0;34m(\u001b[0m\u001b[0morder1\u001b[0m\u001b[0;34m.\u001b[0m\u001b[0mtotal_order\u001b[0m\u001b[0;34m(\u001b[0m\u001b[0;34m)\u001b[0m\u001b[0;34m)\u001b[0m\u001b[0;34m\u001b[0m\u001b[0;34m\u001b[0m\u001b[0m\n",
            "\u001b[0;31mTypeError\u001b[0m: same4each() missing 1 required positional argument: 'double'"
          ]
        }
      ]
    }
  ]
}
