{
  "nbformat": 4,
  "nbformat_minor": 0,
  "metadata": {
    "colab": {
      "name": "5.__init__ Method.ipynb",
      "provenance": [],
      "collapsed_sections": [],
      "authorship_tag": "ABX9TyNwzWaLgSBS+12RvGmJLCOb",
      "include_colab_link": true
    },
    "kernelspec": {
      "name": "python3",
      "display_name": "Python 3"
    }
  },
  "cells": [
    {
      "cell_type": "markdown",
      "metadata": {
        "id": "view-in-github",
        "colab_type": "text"
      },
      "source": [
        "<a href=\"https://colab.research.google.com/github/Happy-Virus-IkBeom/Python-Practice/blob/master/5___init___Method.ipynb\" target=\"_parent\"><img src=\"https://colab.research.google.com/assets/colab-badge.svg\" alt=\"Open In Colab\"/></a>"
      ]
    },
    {
      "cell_type": "code",
      "metadata": {
        "id": "eoWRTR13qHQu",
        "colab_type": "code",
        "colab": {}
      },
      "source": [
        "\"\"\" __init__ Method \"\"\"\n",
        "\n",
        "class Book:\n",
        "\n",
        "  def setData(self, title, price, author): #책 클래스의 메서드 : setData, printData\n",
        "    self.title = title\n",
        "    self.price = price\n",
        "    self.author = author\n",
        "\n",
        "  def printData(self):\n",
        "    print ('제목 : ', self.title)\n",
        "    print ('가격 : ', self.price)\n",
        "    print ('저자 : ', self.author)\n",
        "\n",
        "  def __init__(self): # 초기화 매서드\n",
        "    print ('책 객체를 새로 만들었어요~')"
      ],
      "execution_count": 3,
      "outputs": []
    },
    {
      "cell_type": "code",
      "metadata": {
        "id": "1ep4TCp_rC36",
        "colab_type": "code",
        "colab": {
          "base_uri": "https://localhost:8080/",
          "height": 34
        },
        "outputId": "5b8c8d0f-5360-4cc2-8fe6-94e56e5282df"
      },
      "source": [
        "b = Book() #자동으로 초기화 메서드 실행"
      ],
      "execution_count": 6,
      "outputs": [
        {
          "output_type": "stream",
          "text": [
            "책 객체를 새로 만들었어요~\n"
          ],
          "name": "stdout"
        }
      ]
    },
    {
      "cell_type": "code",
      "metadata": {
        "id": "6ToPk9LArIqr",
        "colab_type": "code",
        "colab": {
          "base_uri": "https://localhost:8080/",
          "height": 70
        },
        "outputId": "7411029c-5f95-46a1-85ff-3bd0d7cdaf0a"
      },
      "source": [
        "b.setData('누가 내 치즈를 먹었을까', '300원', '미키')\n",
        "b.printData()"
      ],
      "execution_count": 7,
      "outputs": [
        {
          "output_type": "stream",
          "text": [
            "제목 :  누가 내 치즈를 먹었을까\n",
            "가격 :  300원\n",
            "저자 :  미키\n"
          ],
          "name": "stdout"
        }
      ]
    },
    {
      "cell_type": "code",
      "metadata": {
        "id": "4IvIuaKhra5j",
        "colab_type": "code",
        "colab": {}
      },
      "source": [
        "class Book:\n",
        "\n",
        "  def setData(self, title, price, author): #책 클래스의 메서드 : setData, printData\n",
        "    self.title = title\n",
        "    self.price = price\n",
        "    self.author = author\n",
        "\n",
        "  def printData(self):\n",
        "    print ('제목 : ', self.title)\n",
        "    print ('가격 : ', self.price)\n",
        "    print ('저자 : ', self.author)\n",
        "\n",
        "  def __init__(self, title, price, author): # 초기화 매서드 변경\n",
        "    self.setData(title, price, author)\n",
        "    print ('책 객체를 새로 만들었어요~')"
      ],
      "execution_count": 9,
      "outputs": []
    },
    {
      "cell_type": "code",
      "metadata": {
        "id": "iktoIgsqrtZc",
        "colab_type": "code",
        "colab": {
          "base_uri": "https://localhost:8080/",
          "height": 87
        },
        "outputId": "b0da21e7-4357-40d7-842b-3733e967ec1f"
      },
      "source": [
        "b2 = Book('내가 먹었지롱', '200원', '미니')\n",
        "b2.setData('내가 먹었지롱', '200원', '미니')\n",
        "b2.printData()"
      ],
      "execution_count": 14,
      "outputs": [
        {
          "output_type": "stream",
          "text": [
            "책 객체를 새로 만들었어요~\n",
            "제목 :  내가 먹었지롱\n",
            "가격 :  200원\n",
            "저자 :  미니\n"
          ],
          "name": "stdout"
        }
      ]
    }
  ]
}