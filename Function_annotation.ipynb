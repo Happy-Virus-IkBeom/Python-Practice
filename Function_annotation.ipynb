{
  "nbformat": 4,
  "nbformat_minor": 0,
  "metadata": {
    "colab": {
      "name": "Function annotation.ipynb",
      "provenance": [],
      "collapsed_sections": [],
      "authorship_tag": "ABX9TyP+YkLG49/w8+u5PA4nkBy6",
      "include_colab_link": true
    },
    "kernelspec": {
      "name": "python3",
      "display_name": "Python 3"
    }
  },
  "cells": [
    {
      "cell_type": "markdown",
      "metadata": {
        "id": "view-in-github",
        "colab_type": "text"
      },
      "source": [
        "<a href=\"https://colab.research.google.com/github/Happy-Virus-IkBeom/Python-Practice/blob/master/Function_annotation.ipynb\" target=\"_parent\"><img src=\"https://colab.research.google.com/assets/colab-badge.svg\" alt=\"Open In Colab\"/></a>"
      ]
    },
    {
      "cell_type": "markdown",
      "metadata": {
        "id": "_cIrEMaon6UZ",
        "colab_type": "text"
      },
      "source": [
        "Function annotation 의 사용 방법"
      ]
    },
    {
      "cell_type": "code",
      "metadata": {
        "id": "v-qkaPdFn1Nz",
        "colab_type": "code",
        "colab": {
          "base_uri": "https://localhost:8080/",
          "height": 87
        },
        "outputId": "98a93776-6873-438d-b95b-4b6992cdb8bc"
      },
      "source": [
        "# Fuctnion annotation\n",
        "\n",
        "def func(arg1: str, arg2: 1+2, arg3: 'this is annotation') -> bool:\n",
        "  print(f'arg1 = {arg1}') # f-string. f'arg1 = {arg1}' 이므로 {안에 arg1에 해당하는 값을 자동적으로 넣어줌}\n",
        "  print(f'arg2 = {arg2}') # 또한, f-string을 쓰면 아주 간단하고 편리함. 보기도 쉽다.\n",
        "  print(f'arg3 = {arg3}')\n",
        "  return True\n",
        "\n",
        "result = func('test1', 3, 'this is test')\n",
        "print(f'result = {result}')\n",
        "\n",
        "\n"
      ],
      "execution_count": 4,
      "outputs": [
        {
          "output_type": "stream",
          "text": [
            "arg1 = test1\n",
            "arg2 = 3\n",
            "arg3 = this is test\n",
            "result = True\n"
          ],
          "name": "stdout"
        }
      ]
    },
    {
      "cell_type": "markdown",
      "metadata": {
        "id": "ysT2eFz8oAGC",
        "colab_type": "text"
      },
      "source": [
        "위와 같이 파라미터에 : expression 형태로 매개변수 마다 annotation 을 쓸 수 있다. \n",
        "\n",
        "   annotation 에는 arg1 처럼 매개변수의 type 을 써놓을 수도 있고,\n",
        "\n",
        "   arg2 의 annotation 처럼 덧셈과 같은 간단한 연산 표현도 작성 가능하며, \n",
        "\n",
        "   arg3 처럼 string 형태로도 작성 가능하다. \n",
        "\n",
        " \n",
        "\n",
        "   또한, function 의 return 값에 대해서는 -> expression 형태로 사용한다. \n",
        "\n",
        "   return 또한 매개변수와 사용 방법은 동일하다."
      ]
    },
    {
      "cell_type": "markdown",
      "metadata": {
        "id": "l5xJSSxQocvb",
        "colab_type": "text"
      },
      "source": [
        "만약, 함수에 작성된 annotation 과 무관한 인자를 넣어 호출하면 어떻게 될까.\n",
        "\n",
        "  아래와 같이 annotation 과 상관없는 'test1', 'test2', 'test3' 라는 인자를 넣어 func2 를 호출해 보자."
      ]
    },
    {
      "cell_type": "code",
      "metadata": {
        "id": "wvihHgVaoeei",
        "colab_type": "code",
        "colab": {
          "base_uri": "https://localhost:8080/",
          "height": 87
        },
        "outputId": "c0525cc0-0ac6-4f12-b22e-dcce9e5d530c"
      },
      "source": [
        "def func(arg1: str, arg2: 1+2, arg3: 'this is annotation') -> bool:\n",
        "  print(f'arg1 = {arg1}')\n",
        "  print(f'arg2 = {arg2}')\n",
        "  print(f'arg3 = {arg3}')\n",
        "  return True\n",
        "\n",
        "result = func('test1', 'test2', 'test3')\n",
        "print(f'result = {result}')\n"
      ],
      "execution_count": 5,
      "outputs": [
        {
          "output_type": "stream",
          "text": [
            "arg1 = test1\n",
            "arg2 = test2\n",
            "arg3 = test3\n",
            "result = True\n"
          ],
          "name": "stdout"
        }
      ]
    },
    {
      "cell_type": "markdown",
      "metadata": {
        "id": "Ga76o0WrpEiT",
        "colab_type": "text"
      },
      "source": [
        " 즉, annotation에 적혀 있는 내용은 주석이므로 실제로는 이와 상관없이 실행되게 된다.\n",
        "\n",
        "\n",
        "\n",
        " 그리고, annotation 은 해당 함수의 __annotation__ 의 속성에서 정보를 확인해 볼 수 있다.\n"
      ]
    }
  ]
}